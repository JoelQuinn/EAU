{
 "cells": [
  {
   "cell_type": "code",
   "execution_count": 8,
   "id": "a34a68da-b2ed-4969-b7da-f6b325da9543",
   "metadata": {},
   "outputs": [],
   "source": [
    "from cellphonedb.src.core.methods import cpdb_statistical_analysis_method\n",
    "from cellphonedb.utils import db_utils\n",
    "import os\n",
    "import pandas as pd\n",
    "import sys\n",
    "import ktplotspy as kpy\n",
    "import anndata as ad\n",
    "import matplotlib.pyplot as plt\n",
    "import seaborn as sn"
   ]
  },
  {
   "cell_type": "code",
   "execution_count": 2,
   "id": "dab27f86-0260-41b7-b2a8-4ccb983cd73f",
   "metadata": {},
   "outputs": [
    {
     "name": "stdout",
     "output_type": "stream",
     "text": [
      "Downloaded cellphonedb.zip into cpdb/db\n",
      "Downloaded complex_input.csv into cpdb/db\n",
      "Downloaded gene_input.csv into cpdb/db\n",
      "Downloaded interaction_input.csv into cpdb/db\n",
      "Downloaded protein_input.csv into cpdb/db\n",
      "Downloaded uniprot_synonyms.tsv into cpdb/db\\sources\n"
     ]
    }
   ],
   "source": [
    "db_utils.download_database(\"cpdb/db\", \"v4.1.0\")"
   ]
  },
  {
   "cell_type": "code",
   "execution_count": 4,
   "id": "8ed5d70b-3c0c-4402-aa27-e77bedb072f1",
   "metadata": {
    "tags": []
   },
   "outputs": [],
   "source": [
    "cpdb_file_path=\"cpdb/db/cellphonedb.zip\"\n",
    "meta_file_path=\"cpdb/CPDB/eau1_metadata.txt\"\n",
    "counts_file_path=\"cpdb/CPDB/eau1.h5ad\"\n",
    "output_path=\"results\"\n",
    "\n",
    "meta = pd.read_csv(meta_file_path, sep=\"\\t\")\n",
    "adata = ad.read_h5ad(counts_file_path)"
   ]
  },
  {
   "cell_type": "code",
   "execution_count": null,
   "id": "d226d3e8-3ca4-495f-8a97-41a30fe93cc6",
   "metadata": {},
   "outputs": [],
   "source": [
    "deconvoluted, means, pvalues, significant_means = cpdb_statistical_analysis_method.call(\n",
    "    cpdb_file_path=cpdb_file_path,\n",
    "    meta_file_path=meta_file_path,\n",
    "    counts_file_path=counts_file_path,\n",
    "    counts_data=\"hgnc_symbol\",\n",
    "    output_path=output_path,\n",
    "    separator=\"|\",\n",
    "    threshold=0.1,\n",
    "    result_precision=3,\n",
    "    output_suffix=\"EAU01\"\n",
    ")"
   ]
  },
  {
   "cell_type": "code",
   "execution_count": 2,
   "id": "e0c84018-de42-464a-997c-ebdd4688ae97",
   "metadata": {},
   "outputs": [],
   "source": [
    "m = pd.read_csv(\"results/statistical_analysis_means_EAU01.txt\", sep=\"\\t\")\n",
    "p = pd.read_csv(\"results/statistical_analysis_pvalues_EAU01.txt\", sep=\"\\t\")\n",
    "d = pd.read_csv(\"results/statistical_analysis_deconvoluted_EAU01.txt\", sep=\"\\t\")"
   ]
  },
  {
   "cell_type": "code",
   "execution_count": 5,
   "id": "9f56cc72-f399-4b98-996f-25eb39654d49",
   "metadata": {},
   "outputs": [],
   "source": [
    "ints = kpy.plot_cpdb_heatmap(adata=adata,\n",
    "                     pvals=p,\n",
    "                     celltype_key=\"ic_cluster\",\n",
    "                     cmap=\"viridis\", \n",
    "                     return_tables = True)\n",
    "\n",
    "network = ints[\"count_network\"]\n",
    "total_ints = ints[\"interaction_count\"]\n",
    "edges = ints[\"interaction_edges\"]"
   ]
  },
  {
   "cell_type": "code",
   "execution_count": null,
   "id": "6ca0eacf-2bcb-4bf2-8982-8b7dc84404b0",
   "metadata": {},
   "outputs": [],
   "source": [
    "network.to_csv(\"results/CPDB_network_EAU01.txt\", sep=\"\\t\")\n",
    "total_ints.to_csv(\"results/CPDB_total-interactions_EAU01.txt\", sep=\"\\t\")\n",
    "edges.to_csv(\"results/CPDB_edges_EAU01.txt\", sep=\"\\t\")"
   ]
  },
  {
   "cell_type": "code",
   "execution_count": 59,
   "id": "22ed7ee9-74ad-4a72-9740-f5494aa411ce",
   "metadata": {},
   "outputs": [
    {
     "name": "stdout",
     "output_type": "stream",
     "text": [
      "Reading user files...\n",
      "The following user files were loaded successfully:\n",
      "cpdb/CPDB/eau2.h5ad\n",
      "cpdb/CPDB/eau2_metadata.txt\n",
      "[ ][CORE][27/11/23-15:52:38][INFO] [Cluster Statistical Analysis] Threshold:0.1 Iterations:1000 Debug-seed:-1 Threads:4 Precision:3\n",
      "[ ][CORE][27/11/23-15:52:40][INFO] Running Real Analysis\n",
      "[ ][CORE][27/11/23-15:52:40][INFO] Running Statistical Analysis\n"
     ]
    },
    {
     "name": "stderr",
     "output_type": "stream",
     "text": [
      "100%|██████████| 1000/1000 [02:23<00:00,  6.95it/s]"
     ]
    },
    {
     "name": "stdout",
     "output_type": "stream",
     "text": [
      "[ ][CORE][27/11/23-15:55:04][INFO] Building Pvalues result\n"
     ]
    },
    {
     "name": "stderr",
     "output_type": "stream",
     "text": [
      "\n"
     ]
    },
    {
     "name": "stdout",
     "output_type": "stream",
     "text": [
      "[ ][CORE][27/11/23-15:55:06][INFO] Building results\n",
      "Saved deconvoluted to results\\statistical_analysis_deconvoluted_EAU02.txt\n",
      "Saved means to results\\statistical_analysis_means_EAU02.txt\n",
      "Saved pvalues to results\\statistical_analysis_pvalues_EAU02.txt\n",
      "Saved significant_means to results\\statistical_analysis_significant_means_EAU02.txt\n"
     ]
    }
   ],
   "source": [
    "cpdb_file_path=\"cpdb/db/cellphonedb.zip\"\n",
    "meta_file_path=\"cpdb/CPDB/eau2_metadata.txt\"\n",
    "counts_file_path=\"cpdb/CPDB/eau2.h5ad\"\n",
    "output_path=\"results\"\n",
    "\n",
    "meta = pd.read_csv(meta_file_path, sep=\"\\t\")\n",
    "\n",
    "adata = ad.read_h5ad(counts_file_path)\n",
    "\n",
    "deconvoluted, means, pvalues, significant_means = cpdb_statistical_analysis_method.call(\n",
    "    cpdb_file_path=cpdb_file_path,\n",
    "    meta_file_path=meta_file_path,\n",
    "    counts_file_path=counts_file_path,\n",
    "    counts_data=\"hgnc_symbol\",\n",
    "    output_path=output_path,\n",
    "    separator=\"|\",\n",
    "    threshold=0.1,\n",
    "    result_precision=3,\n",
    "    output_suffix=\"EAU02\"\n",
    ")"
   ]
  }
 ],
 "metadata": {
  "kernelspec": {
   "display_name": "Python 3 (ipykernel)",
   "language": "python",
   "name": "python3"
  },
  "language_info": {
   "codemirror_mode": {
    "name": "ipython",
    "version": 3
   },
   "file_extension": ".py",
   "mimetype": "text/x-python",
   "name": "python",
   "nbconvert_exporter": "python",
   "pygments_lexer": "ipython3",
   "version": "3.8.16"
  }
 },
 "nbformat": 4,
 "nbformat_minor": 5
}
